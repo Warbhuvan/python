{
 "cells": [
  {
   "cell_type": "markdown",
   "metadata": {},
   "source": [
    "SignIn/SignUp Feature"
   ]
  },
  {
   "cell_type": "code",
   "execution_count": 58,
   "metadata": {},
   "outputs": [],
   "source": [
    "# CHeck Password strength\n",
    "# Length of min 8 length 10\n",
    "# mix of upper and lower case 10,10\n",
    "# special characters 10\n",
    "# Numbers 10\n",
    "import re\n",
    "import smtplib\n",
    "import random\n",
    "def checkPasswordStrength(password):\n",
    "    strength=0\n",
    "    regex = re.compile('[@_!#$%^&*()<>?/\\|}{~:]')\n",
    "    isUpper= False\n",
    "    isLower=False\n",
    "    isNumber=False\n",
    "    isSpecial=False\n",
    "    if len(password)>=8 :\n",
    "        isSpecial=True\n",
    "        for x in password:\n",
    "            if x.isupper() :\n",
    "                isUpper=True\n",
    "            elif x.islower():\n",
    "                isLower=True\n",
    "            elif x.isnumeric():\n",
    "                isNumber=True\n",
    "            elif regex.search(password) != None:\n",
    "                isSpecial=True\n",
    "        if (not isUpper) or (not isLower) or  (not isNumber) or (not isSpecial):\n",
    "            return False\n",
    "    else:\n",
    "        return False\n",
    "    return True;\n",
    "        "
   ]
  },
  {
   "cell_type": "code",
   "execution_count": 66,
   "metadata": {},
   "outputs": [],
   "source": [
    "def sendEmail(emailId,otp):\n",
    "    sender_email=\"sheetalwarbhuvan95@gmail.com\"\n",
    "    password=\"14Vaijanti\"\n",
    "    subject = 'Email Verification '\n",
    "    body = f'OTP : {otp}'\n",
    "    email_text = \"\"\"\\\n",
    "    From: %s\n",
    "    To: %s\n",
    "    Subject: %s\n",
    "    %s\n",
    "    \"\"\" % (sender_email, \", \".join(emailId), subject, body)\n",
    "    try:\n",
    "        smtp_server = smtplib.SMTP_SSL('smtp.gmail.com', 465)\n",
    "        smtp_server.ehlo()\n",
    "        smtp_server.login(sender_email, password)\n",
    "        smtp_server.sendmail(sender_email, emailId, email_text)\n",
    "        smtp_server.close()\n",
    "        print (\"Email sent successfully!\")\n",
    "    except Exception as ex:\n",
    "        print (\"Something went wrong….\",ex)\n",
    "def resetPassword(userName):\n",
    "    otp=random.randint(0,9999)\n",
    "    userName=input(\"Enter User Name \")\n",
    "    sendEmail(input(\"Enter Email Id\"),otp)\n",
    "    re_otp=int(input(\"Enter OTP \"))\n",
    "    if otp==re_otp and userName in d:\n",
    "        isValid=False\n",
    "        attempt=3\n",
    "        while(not isValid and attempt):\n",
    "            attempt-=1\n",
    "            newPass=input(\"Enter new password\")\n",
    "            isValid=checkPasswordStrength(newPass)\n",
    "            if isValid:\n",
    "                d.update({userName:newPass})\n",
    "            if attempt==0:\n",
    "                return \"Failed to update password. Please try again later\"\n",
    "    return \"Successfully Updated password. sign in with updated password\"\n",
    "            \n",
    "    "
   ]
  },
  {
   "cell_type": "code",
   "execution_count": 67,
   "metadata": {},
   "outputs": [
    {
     "name": "stdout",
     "output_type": "stream",
     "text": [
      "\n",
      "    Enter 1 to sign in\n",
      "    Enter 2 to sign up\n",
      "    Enter 0 to exit1\n",
      "SignIn\n",
      "Enter your userName :sheetal\n",
      "Enter 1 to enter password and Enter 0 to reset password1\n",
      "User not registered..\n",
      "state  Logged In Successfully\n",
      "\n",
      "    Enter 1 to sign in\n",
      "    Enter 2 to sign up\n",
      "    Enter 0 to exit2\n",
      "SignUp\n",
      "Create userName :sheetal\n",
      "Enter password :Admin@123\n",
      "True\n",
      "state  Successful\n",
      "\n",
      "    Enter 1 to sign in\n",
      "    Enter 2 to sign up\n",
      "    Enter 0 to exit1\n",
      "SignIn\n",
      "Enter your userName :sheetal\n",
      "Enter 1 to enter password and Enter 0 to reset password0\n",
      "Enter User Name sheetal\n",
      "Enter Email Idkusendi.0695@gmail.com\n",
      "Email sent successfully!\n",
      "Enter OTP 4533\n",
      "Successfully Updated password. sign in with updated password\n",
      "state  Logged In Successfully\n"
     ]
    },
    {
     "ename": "KeyboardInterrupt",
     "evalue": "Interrupted by user",
     "output_type": "error",
     "traceback": [
      "\u001b[1;31m---------------------------------------------------------------------------\u001b[0m",
      "\u001b[1;31mKeyboardInterrupt\u001b[0m                         Traceback (most recent call last)",
      "\u001b[1;32m<ipython-input-67-f992b47ac4f9>\u001b[0m in \u001b[0;36m<module>\u001b[1;34m\u001b[0m\n\u001b[0;32m     40\u001b[0m     \u001b[1;32mreturn\u001b[0m \u001b[1;34m'Logged In Successfully'\u001b[0m\u001b[1;33m\u001b[0m\u001b[1;33m\u001b[0m\u001b[0m\n\u001b[0;32m     41\u001b[0m \u001b[1;32mwhile\u001b[0m\u001b[1;33m(\u001b[0m\u001b[1;36m1\u001b[0m\u001b[1;33m)\u001b[0m\u001b[1;33m:\u001b[0m\u001b[1;33m\u001b[0m\u001b[1;33m\u001b[0m\u001b[0m\n\u001b[1;32m---> 42\u001b[1;33m     mode=int(input('''\n\u001b[0m\u001b[0;32m     43\u001b[0m     \u001b[0mEnter\u001b[0m \u001b[1;36m1\u001b[0m \u001b[0mto\u001b[0m \u001b[0msign\u001b[0m \u001b[1;32min\u001b[0m\u001b[1;33m\u001b[0m\u001b[1;33m\u001b[0m\u001b[0m\n\u001b[0;32m     44\u001b[0m     \u001b[0mEnter\u001b[0m \u001b[1;36m2\u001b[0m \u001b[0mto\u001b[0m \u001b[0msign\u001b[0m \u001b[0mup\u001b[0m\u001b[1;33m\u001b[0m\u001b[1;33m\u001b[0m\u001b[0m\n",
      "\u001b[1;32mC:\\ProgramData\\Anaconda3\\lib\\site-packages\\ipykernel\\kernelbase.py\u001b[0m in \u001b[0;36mraw_input\u001b[1;34m(self, prompt)\u001b[0m\n\u001b[0;32m    858\u001b[0m                 \u001b[1;34m\"raw_input was called, but this frontend does not support input requests.\"\u001b[0m\u001b[1;33m\u001b[0m\u001b[1;33m\u001b[0m\u001b[0m\n\u001b[0;32m    859\u001b[0m             )\n\u001b[1;32m--> 860\u001b[1;33m         return self._input_request(str(prompt),\n\u001b[0m\u001b[0;32m    861\u001b[0m             \u001b[0mself\u001b[0m\u001b[1;33m.\u001b[0m\u001b[0m_parent_ident\u001b[0m\u001b[1;33m,\u001b[0m\u001b[1;33m\u001b[0m\u001b[1;33m\u001b[0m\u001b[0m\n\u001b[0;32m    862\u001b[0m             \u001b[0mself\u001b[0m\u001b[1;33m.\u001b[0m\u001b[0m_parent_header\u001b[0m\u001b[1;33m,\u001b[0m\u001b[1;33m\u001b[0m\u001b[1;33m\u001b[0m\u001b[0m\n",
      "\u001b[1;32mC:\\ProgramData\\Anaconda3\\lib\\site-packages\\ipykernel\\kernelbase.py\u001b[0m in \u001b[0;36m_input_request\u001b[1;34m(self, prompt, ident, parent, password)\u001b[0m\n\u001b[0;32m    902\u001b[0m             \u001b[1;32mexcept\u001b[0m \u001b[0mKeyboardInterrupt\u001b[0m\u001b[1;33m:\u001b[0m\u001b[1;33m\u001b[0m\u001b[1;33m\u001b[0m\u001b[0m\n\u001b[0;32m    903\u001b[0m                 \u001b[1;31m# re-raise KeyboardInterrupt, to truncate traceback\u001b[0m\u001b[1;33m\u001b[0m\u001b[1;33m\u001b[0m\u001b[1;33m\u001b[0m\u001b[0m\n\u001b[1;32m--> 904\u001b[1;33m                 \u001b[1;32mraise\u001b[0m \u001b[0mKeyboardInterrupt\u001b[0m\u001b[1;33m(\u001b[0m\u001b[1;34m\"Interrupted by user\"\u001b[0m\u001b[1;33m)\u001b[0m \u001b[1;32mfrom\u001b[0m \u001b[1;32mNone\u001b[0m\u001b[1;33m\u001b[0m\u001b[1;33m\u001b[0m\u001b[0m\n\u001b[0m\u001b[0;32m    905\u001b[0m             \u001b[1;32mexcept\u001b[0m \u001b[0mException\u001b[0m \u001b[1;32mas\u001b[0m \u001b[0me\u001b[0m\u001b[1;33m:\u001b[0m\u001b[1;33m\u001b[0m\u001b[1;33m\u001b[0m\u001b[0m\n\u001b[0;32m    906\u001b[0m                 \u001b[0mself\u001b[0m\u001b[1;33m.\u001b[0m\u001b[0mlog\u001b[0m\u001b[1;33m.\u001b[0m\u001b[0mwarning\u001b[0m\u001b[1;33m(\u001b[0m\u001b[1;34m\"Invalid Message:\"\u001b[0m\u001b[1;33m,\u001b[0m \u001b[0mexc_info\u001b[0m\u001b[1;33m=\u001b[0m\u001b[1;32mTrue\u001b[0m\u001b[1;33m)\u001b[0m\u001b[1;33m\u001b[0m\u001b[1;33m\u001b[0m\u001b[0m\n",
      "\u001b[1;31mKeyboardInterrupt\u001b[0m: Interrupted by user"
     ]
    }
   ],
   "source": [
    "d={}\n",
    "def signUp():\n",
    "    while(2):\n",
    "        userName=input(\"Create userName :\").lower()\n",
    "        password=input(\"Enter password :\")\n",
    "        isValid=checkPasswordStrength(password)\n",
    "        print(isValid)\n",
    "        if userName=='0':\n",
    "            return 'Failed'\n",
    "        elif isValid and userName not in d :\n",
    "            d.update({userName:password})\n",
    "            return \"Successful\"\n",
    "        elif not isValid:\n",
    "            return \"Password should contain atleast Capital letter,Number,Special characters. \"\n",
    "        else:\n",
    "            print(\"User already Exists... Please try again later.. or press 0 to exit\")\n",
    "def signIn():\n",
    "    userName=input(\"Enter your userName :\").lower()\n",
    "    choice=int(input(\"Enter 1 to enter password and Enter 0 to reset password\"))\n",
    "    if choice==1:\n",
    "        if userName in d:\n",
    "            attempt=3\n",
    "            while(attempt):\n",
    "                password=input(\"Enter password :\")\n",
    "                if d[userName]==password:\n",
    "                    return 'Logged In successfully'\n",
    "                elif d[userName]!=password :\n",
    "                    attempt-=1\n",
    "                    print(f\"Password Incorrect. {attempt} attempts left\")\n",
    "                    if attempt <=0:\n",
    "                        choice=int(input(\"Enter 1 to exit and Enter 0 to reset password\"))\n",
    "                        if choice==0:\n",
    "                            print(resetPassword(userName))\n",
    "                        else:\n",
    "                            return 'Failed'\n",
    "        else:\n",
    "            print(\"User not registered..\")\n",
    "    else:\n",
    "        print(resetPassword(userName))\n",
    "    return 'Logged In Successfully'\n",
    "while(1):\n",
    "    mode=int(input('''\n",
    "    Enter 1 to sign in\n",
    "    Enter 2 to sign up\n",
    "    Enter 0 to exit'''))\n",
    "    if mode ==1:\n",
    "        #Sign In\n",
    "        print(\"SignIn\")\n",
    "        print(\"state \",signIn())\n",
    "    elif mode==2:\n",
    "        print(\"SignUp\")\n",
    "        print(\"state \",signUp())\n",
    "        # Signup\n",
    "    elif mode==0:\n",
    "        print(\"Thank you for using ouur service\")\n",
    "        break\n",
    "    else:\n",
    "        print(\"Enter a valid choice\") \n",
    "    \n",
    "    "
   ]
  },
  {
   "cell_type": "code",
   "execution_count": 68,
   "metadata": {},
   "outputs": [
    {
     "data": {
      "text/plain": [
       "{'sheetal': 'Admin@123'}"
      ]
     },
     "execution_count": 68,
     "metadata": {},
     "output_type": "execute_result"
    }
   ],
   "source": [
    "d"
   ]
  },
  {
   "cell_type": "code",
   "execution_count": null,
   "metadata": {},
   "outputs": [],
   "source": [
    "# kusendi.0695@gmail.com"
   ]
  }
 ],
 "metadata": {
  "kernelspec": {
   "display_name": "Python 3",
   "language": "python",
   "name": "python3"
  },
  "language_info": {
   "codemirror_mode": {
    "name": "ipython",
    "version": 3
   },
   "file_extension": ".py",
   "mimetype": "text/x-python",
   "name": "python",
   "nbconvert_exporter": "python",
   "pygments_lexer": "ipython3",
   "version": "3.8.5"
  }
 },
 "nbformat": 4,
 "nbformat_minor": 4
}
