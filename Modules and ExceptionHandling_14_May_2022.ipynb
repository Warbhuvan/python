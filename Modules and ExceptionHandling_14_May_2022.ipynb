{
 "cells": [
  {
   "cell_type": "markdown",
   "metadata": {},
   "source": [
    "# Modules\n",
    "\n",
    "- inbuilt modules- (also called as librries) and come along with python\n",
    "- userDefined module\n",
    "- external module "
   ]
  },
  {
   "cell_type": "code",
   "execution_count": null,
   "metadata": {},
   "outputs": [],
   "source": [
    "# In build Module\n",
    "# ex Math"
   ]
  },
  {
   "cell_type": "code",
   "execution_count": null,
   "metadata": {},
   "outputs": [],
   "source": [
    "import math"
   ]
  },
  {
   "cell_type": "code",
   "execution_count": null,
   "metadata": {},
   "outputs": [],
   "source": [
    "math"
   ]
  },
  {
   "cell_type": "code",
   "execution_count": null,
   "metadata": {},
   "outputs": [],
   "source": [
    "math.pi"
   ]
  },
  {
   "cell_type": "code",
   "execution_count": null,
   "metadata": {},
   "outputs": [],
   "source": [
    "math.sqrt(9)"
   ]
  },
  {
   "cell_type": "code",
   "execution_count": null,
   "metadata": {},
   "outputs": [],
   "source": [
    "from math import sqrt"
   ]
  },
  {
   "cell_type": "code",
   "execution_count": null,
   "metadata": {},
   "outputs": [],
   "source": [
    "sqrt(9)"
   ]
  },
  {
   "cell_type": "code",
   "execution_count": null,
   "metadata": {},
   "outputs": [],
   "source": [
    "#aliasing\n",
    "\n",
    "import random as r"
   ]
  },
  {
   "cell_type": "code",
   "execution_count": null,
   "metadata": {},
   "outputs": [],
   "source": [
    "r.choice('12345678')"
   ]
  },
  {
   "cell_type": "code",
   "execution_count": null,
   "metadata": {},
   "outputs": [],
   "source": [
    "import userBuildModule as u"
   ]
  },
  {
   "cell_type": "code",
   "execution_count": null,
   "metadata": {},
   "outputs": [],
   "source": [
    "u.add(10,12)"
   ]
  },
  {
   "cell_type": "code",
   "execution_count": null,
   "metadata": {},
   "outputs": [],
   "source": [
    "from userBuildModule import add as a"
   ]
  },
  {
   "cell_type": "code",
   "execution_count": null,
   "metadata": {},
   "outputs": [],
   "source": [
    "a(12,12)"
   ]
  },
  {
   "cell_type": "markdown",
   "metadata": {},
   "source": [
    "# Exception Handling"
   ]
  },
  {
   "cell_type": "code",
   "execution_count": 1,
   "metadata": {},
   "outputs": [
    {
     "name": "stdout",
     "output_type": "stream",
     "text": [
      "ENter maks: 23\n",
      "Failed\n",
      "ENter maks: -1\n",
      "Failed\n"
     ]
    }
   ],
   "source": [
    "while(1):\n",
    "    try:\n",
    "        try:\n",
    "            marks=int(input(\"ENter maks: \"))\n",
    "        except:\n",
    "            print(\"Please enter valid input\")\n",
    "        else:\n",
    "            if marks>40:\n",
    "                print(\"Passed\")\n",
    "            else:\n",
    "                print(\"Failed\")\n",
    "        finally:\n",
    "            if marks==-1:\n",
    "                break\n",
    "    except:\n",
    "        pass\n",
    "    \n",
    "\n",
    "    "
   ]
  },
  {
   "cell_type": "code",
   "execution_count": 8,
   "metadata": {},
   "outputs": [
    {
     "name": "stdout",
     "output_type": "stream",
     "text": [
      "ENter maks: -2\n",
      "Import\n",
      "Generic error (<class 'ModuleNotFoundError'>, ModuleNotFoundError(\"No module named 'somethingnfxjkvbnn'\"), <traceback object at 0x0000027CDF7944C0>)\n"
     ]
    }
   ],
   "source": [
    "import sys\n",
    "\n",
    "\n",
    "try:\n",
    "    marks=int(input(\"ENter maks: \"))   #ValueError\n",
    "    if marks==-1:\n",
    "        print(len(1))\n",
    "    elif marks==-2:\n",
    "        print(\"Import\")\n",
    "        import somethingnfxjkvbnn\n",
    "    elif marks==-3:\n",
    "        raise IndexError\n",
    "except ValueError:\n",
    "    print(\"Enter Valid input\")\n",
    "except TypeError:\n",
    "    print(\"TypeConversion\")\n",
    "except:\n",
    "    print(\"Generic error\",sys.exc_info())\n",
    "\n",
    "    "
   ]
  },
  {
   "cell_type": "code",
   "execution_count": null,
   "metadata": {},
   "outputs": [],
   "source": []
  },
  {
   "cell_type": "code",
   "execution_count": null,
   "metadata": {},
   "outputs": [],
   "source": []
  }
 ],
 "metadata": {
  "kernelspec": {
   "display_name": "Python 3",
   "language": "python",
   "name": "python3"
  },
  "language_info": {
   "codemirror_mode": {
    "name": "ipython",
    "version": 3
   },
   "file_extension": ".py",
   "mimetype": "text/x-python",
   "name": "python",
   "nbconvert_exporter": "python",
   "pygments_lexer": "ipython3",
   "version": "3.8.5"
  }
 },
 "nbformat": 4,
 "nbformat_minor": 4
}
