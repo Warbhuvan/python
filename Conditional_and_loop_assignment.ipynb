{
 "cells": [
  {
   "cell_type": "markdown",
   "metadata": {},
   "source": [
    "W. A P. which takes one number from 0 to 9 from the user and prints it in the word. And if the word is not from 0 to 9 then\n",
    "it should print that number is outside of the range and program should exit.\n",
    "For exapmple:- \n",
    "input = 1\n",
    "output = one"
   ]
  },
  {
   "cell_type": "code",
   "execution_count": 2,
   "metadata": {},
   "outputs": [
    {
     "name": "stdout",
     "output_type": "stream",
     "text": [
      "Enter number:5\n",
      "Five\n"
     ]
    }
   ],
   "source": [
    "inp = int(input(\"Enter Number:\"))\n",
    "if 0 <= inp < 9:\n",
    "    if inp == 0:\n",
    "        print(\"Zero\")\n",
    "    elif inp == 1:\n",
    "        print(\"One\")\n",
    "    elif inp == 2:\n",
    "        print(\"Two\")\n",
    "    elif inp == 3:\n",
    "        print(\"Three\")\n",
    "    elif inp == 4:\n",
    "        print(\"Four\")\n",
    "    elif inp == 5:\n",
    "        print(\"Five\")\n",
    "    elif inp == 6:\n",
    "        print(\"Six\")\n",
    "    elif inp == 7:\n",
    "        print(\"Seven\")\n",
    "    elif inp == 8:\n",
    "        print(\"Eight\")\n",
    "    elif inp == 9:\n",
    "        print(\"Nine\")\n",
    "\n",
    "else:\n",
    "    print(\"Number is outside the range\")"
   ]
  },
  {
   "cell_type": "markdown",
   "metadata": {},
   "source": [
    "W. A P. to implement calculator but the operation to be done and two numbers will be taken as input from user:-\n",
    "Operation console should show below:-\n",
    "    Please select any one operation from below:-\n",
    "        * To add enter 1\n",
    "        * to subtract enter 2\n",
    "        * To multiply enter 3\n",
    "        * To divide enter 4\n",
    "        * To divide and find quotient enter 5\n",
    "        * To divide and find remainder enter 6\n",
    "        * To divide and find num1 to the power of num2 enter 7\n",
    "        * To Come out of the program enter 8"
   ]
  },
  {
   "cell_type": "code",
   "execution_count": 3,
   "metadata": {},
   "outputs": [
    {
     "name": "stdout",
     "output_type": "stream",
     "text": [
      "Please select any one operation from below:-\n",
      "To add enter 1\n",
      "To subtract enter 2\n",
      "To multiply enter 3\n",
      "To divide enter 4\n",
      "To divide and find quotient enter 5\n",
      "To divide and find remainder enter 6\n",
      "To divide and find num1 to the power of num2 enter 7\n",
      "To Come out of the program enter 8\n",
      "1\n",
      "Enter number 112\n",
      "Enter number 215\n",
      "addition= 27\n"
     ]
    }
   ],
   "source": [
    "print(\"Please select any one operation from below:-\")\n",
    "print(\"To add enter 1\")\n",
    "print(\"To subtract enter 2\")\n",
    "print(\"To multiply enter 3\")\n",
    "print(\"To divide enter 4\")\n",
    "print(\"To divide and find quotient enter 5\")\n",
    "print(\"To divide and find remainder enter 6\")\n",
    "print(\"To divide and find num1 to the power of num2 enter 7\")\n",
    "print(\"To Come out of the program enter 8\")\n",
    "choice = int(input())\n",
    "a = int(input(\"Enter first number :\"))\n",
    "b = int(input(\"Enter second number :\"))\n",
    "if choice == 1:\n",
    "    print(\"addition=\", (a + b))\n",
    "elif choice == 2: \n",
    "    print(\"Subtraction: \", (a - b))\n",
    "elif choice == 3:\n",
    "    print(\"multiplication: \", (a * b))\n",
    "elif choice == 4:\n",
    "    print(\"Division: \", (a / b))\n",
    "elif choice == 5:\n",
    "    print(\"Quotient: \", (a // b))\n",
    "elif choice == 6:\n",
    "    print(\"Reminder; \", (a % b))\n",
    "elif choice == 7:\n",
    "    print(\"Power of \", a, b, (a ** b))\n",
    "else:\n",
    "    print(\"Invalid choice\")\n"
   ]
  },
  {
   "cell_type": "markdown",
   "metadata": {},
   "source": [
    "W A P to check whether a year entered by user is an leap year or not?\n",
    "Check with below input:-\n",
    "    leap year:- 2012, 1968, 2004, 1200, 1600,2400\n",
    "    Non-lear year:- 1971, 2006, 1700,1800,1900"
   ]
  },
  {
   "cell_type": "code",
   "execution_count": 5,
   "metadata": {},
   "outputs": [
    {
     "name": "stdout",
     "output_type": "stream",
     "text": [
      "Enter year:2022\n",
      "2022  Year is not a leap year\n"
     ]
    }
   ],
   "source": [
    "year = input(\"Enter year:\");\n",
    "if int(year) % 4 == 0:\n",
    "    print(year, \" Year is a leap year\")\n",
    "else:\n",
    "    print(year, \" Year is not a leap year\")"
   ]
  },
  {
   "cell_type": "markdown",
   "metadata": {},
   "source": [
    "W A P which takes one number from the user and checks whether it is an even or odd number?, If it even then prints number is \n",
    "even number else prints that number is odd number."
   ]
  },
  {
   "cell_type": "code",
   "execution_count": 6,
   "metadata": {},
   "outputs": [
    {
     "name": "stdout",
     "output_type": "stream",
     "text": [
      "Enter number :234\n",
      "Number is even number\n"
     ]
    }
   ],
   "source": [
    "number = input(\"Enter number :\")\n",
    "if int(number) % 2 == 0:\n",
    "    print(\"Number is even number\")\n",
    "else:\n",
    "    print(\"Number is odd number\")"
   ]
  },
  {
   "cell_type": "markdown",
   "metadata": {},
   "source": [
    "W A P which takes two numbers from the user and prints below output:-\n",
    "    1. num1 is greater than num2 if num1 is greater than num2\n",
    "    2. num1 is smaller than num2 if num1 is smaller than num2\n",
    "    3. num1 is equal to num2 if num1 and num2 are equal\n",
    "\n",
    "Note:- 1. Do this problem using if - else \n",
    "      2. Do this using ternary operator"
   ]
  },
  {
   "cell_type": "code",
   "execution_count": 7,
   "metadata": {},
   "outputs": [
    {
     "name": "stdout",
     "output_type": "stream",
     "text": [
      "Enter number1 :12\n",
      "Enter number2 :34\n",
      "Enter number3 :23\n",
      "num1 is smaller than num2\n",
      "num1 is smaller than num2\n"
     ]
    }
   ],
   "source": [
    "number1 = input(\"Enter number1 :\")\n",
    "number2 = input(\"Enter number2 :\")\n",
    "number3 = input(\"Enter number3 :\")\n",
    "no1 = int(number1)\n",
    "no2 = int(number2)\n",
    "if no1 > no2:\n",
    "    print(\"num1 is greater than num2\")\n",
    "elif no1 < no2:\n",
    "    print(\"num1 is smaller than num2\")\n",
    "elif no1 == no2:\n",
    "    print(\" num1 is equal to num2\")\n",
    "\n",
    "print(\"num1 is greater than num2\") if no1 > no2 else print(\n",
    "    \"num1 is smaller than num2\") if no1 < no2 else print(\" num1 is equal to num2\")"
   ]
  },
  {
   "cell_type": "markdown",
   "metadata": {},
   "source": [
    "W A P which takes three numbers from the user and prints below output:-\n",
    "    1. num1 is greater than num2 and num3 if num1 is greater than num2 and num3\n",
    "    2. num2 is greater than num1 and num3 if num2 is greater than num1 and num3\n",
    "    3. num3 is greater than num1 and num2 if num3 is greater than num1 and num2\n",
    "\n",
    "Note:- 1. Do this problem using if - elif - else \n",
    "      2. Do this using ternary operator\n",
    "\n",
    "a = a if a>b else b"
   ]
  },
  {
   "cell_type": "code",
   "execution_count": 8,
   "metadata": {},
   "outputs": [
    {
     "name": "stdout",
     "output_type": "stream",
     "text": [
      "Enter number1 :23\n",
      "Enter number2 :67\n",
      "Enter number3 :456\n",
      "num3 is greater than num1 and num2\n",
      "num3 is greater than num1 and num2\n"
     ]
    }
   ],
   "source": [
    "no1 = int(input(\"Enter number1 :\"))\n",
    "no2 = int(input(\"Enter number2 :\"))\n",
    "no3 = int(input(\"Enter number3 :\"))\n",
    "if no1 > no2 and no1 > no3:\n",
    "    print(\" num1 is greater than num2 and num3\")\n",
    "elif no1 < no2 and no3 < no2:\n",
    "    print(\"num2 is greater than num1 and num3\")\n",
    "elif no3 > no1 and no3 > no2:\n",
    "    print(\"num3 is greater than num1 and num2\")\n",
    "\n",
    "print(\" num1 is greater than num2 and num3\") if no1 > no2 and no1 > no3 else print(\n",
    "    \"num3 is greater than num1 and num2\") if no3 > no1 and no3 > no2 else print(\"num2 is greater than num1 and num3\")"
   ]
  },
  {
   "cell_type": "markdown",
   "metadata": {},
   "source": [
    "Write a Python program to find the length of the my_str using loop:-\n",
    "\n",
    "Input:- 'Write a Python program to find the length of the my_str'\n",
    "Output:- 55"
   ]
  },
  {
   "cell_type": "code",
   "execution_count": 11,
   "metadata": {},
   "outputs": [
    {
     "name": "stdout",
     "output_type": "stream",
     "text": [
      "Enter string value: Write a Python program to find the length of the my_str\n",
      "Length of string is  55\n"
     ]
    }
   ],
   "source": [
    "my_str = input(\"Enter string value: \")\n",
    "lengthStr = 0;\n",
    "for x in range(len(my_str)):\n",
    "    lengthStr += 1;\n",
    "print(\"Length of string is \", lengthStr)"
   ]
  },
  {
   "cell_type": "markdown",
   "metadata": {},
   "source": [
    "Write a Python program to find the total number of times letter 'p' is appeared in the below string using loop:-\n",
    "    \n",
    "Input:- 'peter piper picked a peck of pickled peppers.\\n'\n",
    "Output:- 9\n",
    "\n"
   ]
  },
  {
   "cell_type": "code",
   "execution_count": 1,
   "metadata": {},
   "outputs": [
    {
     "name": "stdout",
     "output_type": "stream",
     "text": [
      "Count of p is  9\n"
     ]
    }
   ],
   "source": [
    "inpString = 'peter piper picked a peck of pickled peppers.\\n';\n",
    "count = 0\n",
    "for x in range(len(inpString)):\n",
    "    if inpString[x] == 'p':\n",
    "        count += 1\n",
    "print(\"Count of p is \", count)"
   ]
  },
  {
   "cell_type": "markdown",
   "metadata": {},
   "source": [
    "Write a Python Program, to print all the indexes of all occurences of letter 'p' appeared in the string using loop:-\n",
    "    \n",
    "Input:- 'peter piper picked a peck of pickled peppers.'\n",
    "Output:- \n",
    "0\n",
    "6\n",
    "8\n",
    "12\n",
    "21\n",
    "29\n",
    "37\n",
    "39\n",
    "40"
   ]
  },
  {
   "cell_type": "code",
   "execution_count": 13,
   "metadata": {},
   "outputs": [
    {
     "name": "stdout",
     "output_type": "stream",
     "text": [
      "0\n",
      "\n",
      "6\n",
      "\n",
      "8\n",
      "\n",
      "12\n",
      "\n",
      "21\n",
      "\n",
      "29\n",
      "\n",
      "37\n",
      "\n",
      "39\n",
      "\n",
      "40\n",
      "\n"
     ]
    }
   ],
   "source": [
    "index=0\n",
    "for x in range(len(inpString)):\n",
    "     if inpString[x] == 'p':\n",
    "            index=x\n",
    "            print(index)\n",
    "            print()"
   ]
  },
  {
   "cell_type": "markdown",
   "metadata": {},
   "source": [
    "Write a python program to find below output using loop:-\n",
    "\n",
    "Input:- 'peter piper picked a peck of pickled peppers.'\n",
    "Output:- ['peter', 'piper', 'picked', 'a', 'peck', 'of', 'pickled', 'peppers']"
   ]
  },
  {
   "cell_type": "code",
   "execution_count": 8,
   "metadata": {},
   "outputs": [
    {
     "name": "stdout",
     "output_type": "stream",
     "text": [
      "peter piper picked a peck of pickled peppers.\n",
      "\n",
      "['peter', 'piper', 'picked', 'a', 'peck', 'of', 'pickled', 'peppers']\n"
     ]
    }
   ],
   "source": [
    "print(inpString)\n",
    "listItem=\"\"\n",
    "inputList=[]\n",
    "for x in range(len(inpString)):\n",
    "    if inpString[x] != ' ' and inpString[x] != '.':\n",
    "        listItem += inpString[x]\n",
    "    elif inpString[x] == ' ' or inpString[x] == '.':\n",
    "        inputList.append(listItem)\n",
    "        listItem=\"\"\n",
    "print(inputList)"
   ]
  },
  {
   "cell_type": "markdown",
   "metadata": {},
   "source": [
    "Write a python program to find below output using loop:-\n",
    "\n",
    "Input:- 'peter piper picked a peck of pickled peppers.'\n",
    "Output:- 'peppers pickled of peck a picked piper peter'"
   ]
  },
  {
   "cell_type": "code",
   "execution_count": 20,
   "metadata": {},
   "outputs": [
    {
     "name": "stdout",
     "output_type": "stream",
     "text": [
      " peppers pickled of peck a picked piper peter \n"
     ]
    }
   ],
   "source": [
    "inputList\n",
    "reverseString=\" \"\n",
    "for x in range(0,len(inputList)):\n",
    "    reverseString=reverseString+(inputList[-x-1])+\" \"\n",
    "print(reverseString)"
   ]
  },
  {
   "cell_type": "markdown",
   "metadata": {},
   "source": [
    "Write a python program to find below output using loop:-\n",
    "\n",
    "Input:- 'peter piper picked a peck of pickled peppers.'\n",
    "Output:- '.sreppep delkcip fo kcep a dekcip repip retep'"
   ]
  },
  {
   "cell_type": "code",
   "execution_count": 25,
   "metadata": {},
   "outputs": [
    {
     "name": "stdout",
     "output_type": "stream",
     "text": [
      "peter piper picked a peck of pickled peppers.\n",
      "\n",
      " sreppep delkcip fo kcep a dekcip repip retep \n"
     ]
    }
   ],
   "source": [
    "print(inpString)\n",
    "revStr=\" \"\n",
    "for x in range(0,len(inputList)):\n",
    "    key=inputList[-x-1]\n",
    "    for y in range(len(key)):\n",
    "        revStr=revStr+key[-y-1]\n",
    "    revStr=revStr+\" \"\n",
    "print(revStr)"
   ]
  },
  {
   "cell_type": "markdown",
   "metadata": {},
   "source": [
    "Write a python program to find below output using loop:-\n",
    "\n",
    "Input:- 'peter piper picked a peck of pickled peppers.'\n",
    "Output:- 'retep repip dekcip a kcep fo delkcip sreppep'"
   ]
  },
  {
   "cell_type": "code",
   "execution_count": 26,
   "metadata": {},
   "outputs": [
    {
     "name": "stdout",
     "output_type": "stream",
     "text": [
      "peter piper picked a peck of pickled peppers.\n",
      "\n",
      " retep repip dekcip a kcep fo delkcip sreppep \n"
     ]
    }
   ],
   "source": [
    "print(inpString)\n",
    "revStr=\" \"\n",
    "for x in range(0,len(inputList)):\n",
    "    key=inputList[x]\n",
    "    for y in range(len(key)):\n",
    "        revStr=revStr+key[-y-1]\n",
    "    revStr=revStr+\" \"\n",
    "print(revStr)"
   ]
  },
  {
   "cell_type": "markdown",
   "metadata": {},
   "source": [
    "Write a python program to find below output using loop:-\n",
    "\n",
    "Input:- 'peter piper picked a peck of pickled peppers.'\n",
    "Output:- 'Peter Piper Picked A Peck Of Pickled Peppers'"
   ]
  },
  {
   "cell_type": "code",
   "execution_count": 28,
   "metadata": {},
   "outputs": [
    {
     "name": "stdout",
     "output_type": "stream",
     "text": [
      "Peter Piper Picked A Peck Of Pickled Peppers.\n",
      "\n"
     ]
    }
   ],
   "source": [
    "inpStr=inpString.split(\" \")\n",
    "inpStr=' '.join(x.title() for x in inpStr[0:])\n",
    "print(inpStr)"
   ]
  },
  {
   "cell_type": "markdown",
   "metadata": {},
   "source": [
    "Write a python program to find below output using loop:-\n",
    "\n",
    "Input:- 'Peter Piper Picked A Peck Of Pickled Peppers.'\n",
    "Output:- 'Peter piper picked a peck of pickled peppers'"
   ]
  },
  {
   "cell_type": "code",
   "execution_count": 30,
   "metadata": {},
   "outputs": [
    {
     "name": "stdout",
     "output_type": "stream",
     "text": [
      "Peter peter piper picked a peck of pickled peppers.\n",
      "\n"
     ]
    }
   ],
   "source": [
    "inpStr=inpString.split(\" \")\n",
    "inpStr=inpStr[0].title()+\" \"+' '.join(x for x in inpStr[0:])\n",
    "print(inpStr)"
   ]
  },
  {
   "cell_type": "markdown",
   "metadata": {},
   "source": [
    "Write a python program to implement index method using loop. If sub_str is found in my_str then it will print the index\n",
    "of first occurrence of first character of matching string in my_str:-\n",
    "\n",
    "Input:- my_str = 'Peter Piper Picked A Peck Of Pickled Peppers.', sub_str = 'Pickl'\n",
    "Output:- 29\n"
   ]
  },
  {
   "cell_type": "code",
   "execution_count": 38,
   "metadata": {},
   "outputs": [
    {
     "name": "stdout",
     "output_type": "stream",
     "text": [
      "29\n"
     ]
    }
   ],
   "source": [
    "inpString='Peter Piper Picked A Peck Of Pickled Peppers.'\n",
    "sub_str='Pickl' \n",
    "index=0\n",
    "key=\"\"\n",
    "for y in range(len(inpString)):\n",
    "    key=key+inpString[y]\n",
    "    index=y\n",
    "    if inpString[y]==\" \":\n",
    "        key=\"\"\n",
    "    if key==sub_str:\n",
    "        index-=len(sub_str)-1\n",
    "        break\n",
    "print(index)\n",
    "        \n",
    "        "
   ]
  },
  {
   "cell_type": "markdown",
   "metadata": {},
   "source": [
    "Write a python program to implement replace method using loop. If sub_str is found in my_str then it will replace the first \n",
    "occurrence of sub_str with new_str else it will will print sub_str not found:-\n",
    "\n",
    "Input:- my_str = 'Peter Piper Picked A Peck Of Pickled Peppers.', sub_str = 'Peck', new_str = 'Pack'\n",
    "Output:- 'Peter Piper Picked A Pack Of Pickled Peppers.'"
   ]
  },
  {
   "cell_type": "code",
   "execution_count": 43,
   "metadata": {},
   "outputs": [
    {
     "name": "stdout",
     "output_type": "stream",
     "text": [
      "Peter Piper Picked A Pack Of Pickled Peppers. \n"
     ]
    }
   ],
   "source": [
    "sub_str='Peck' \n",
    "res=\"\"\n",
    "inpStr=inpString.split(\" \")\n",
    "for x in range(len(inpStr)):\n",
    "    if inpStr[x]=='Peck':\n",
    "        res=res+'Pack'+\" \"\n",
    "    else:\n",
    "        res=res+inpStr[x]+\" \"\n",
    "print(res)\n",
    "        \n",
    "        "
   ]
  },
  {
   "cell_type": "markdown",
   "metadata": {},
   "source": [
    "Write a python program to find below output (implements rjust and ljust) using loop:-\n",
    "\n",
    "Input:- 'Peter Piper Picked A Peck Of Pickled Peppers.', sub_str = 'Peck', \n",
    "Output:- '*********************Peck********************'\n"
   ]
  },
  {
   "cell_type": "code",
   "execution_count": 44,
   "metadata": {},
   "outputs": [
    {
     "name": "stdout",
     "output_type": "stream",
     "text": [
      "****Peck***\n"
     ]
    }
   ],
   "source": [
    "sub_str='Peck' \n",
    "res=\"\"\n",
    "inpStr=inpString.split(\" \")\n",
    "for x in range(len(inpStr)):\n",
    "    if inpStr[x]=='Peck':\n",
    "        res=res+inpStr[x]\n",
    "    else:\n",
    "        res=res+'*'\n",
    "print(res)\n",
    "        "
   ]
  },
  {
   "cell_type": "markdown",
   "metadata": {},
   "source": [
    "Write a python program to find below output using loop:-\n",
    "\n",
    "Input:- 'This is Python class', sep = ' is', \n",
    "Output:- ['This', 'is', 'Python class']"
   ]
  },
  {
   "cell_type": "code",
   "execution_count": 46,
   "metadata": {},
   "outputs": [
    {
     "name": "stdout",
     "output_type": "stream",
     "text": [
      "['This', 'is', 'Python class']\n"
     ]
    }
   ],
   "source": [
    "inpStr= 'This is Python class'\n",
    "outStr=inpStr.split(' ',2)\n",
    "print(outStr)"
   ]
  },
  {
   "cell_type": "code",
   "execution_count": null,
   "metadata": {},
   "outputs": [],
   "source": []
  }
 ],
 "metadata": {
  "kernelspec": {
   "display_name": "Python 3",
   "language": "python",
   "name": "python3"
  },
  "language_info": {
   "codemirror_mode": {
    "name": "ipython",
    "version": 3
   },
   "file_extension": ".py",
   "mimetype": "text/x-python",
   "name": "python",
   "nbconvert_exporter": "python",
   "pygments_lexer": "ipython3",
   "version": "3.8.5"
  }
 },
 "nbformat": 4,
 "nbformat_minor": 4
}
