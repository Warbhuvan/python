{
 "cells": [
  {
   "cell_type": "markdown",
   "metadata": {},
   "source": [
    "# Variables in python\n",
    "## Variables in python\n",
    "### Variables in python\n",
    "#### variables in python\n",
    "##### variables in python\n"
   ]
  },
  {
   "cell_type": "markdown",
   "metadata": {},
   "source": [
    "# List\n",
    "- 1\n",
    "- 2\n",
    "- 3\n"
   ]
  },
  {
   "cell_type": "markdown",
   "metadata": {},
   "source": [
    "# Variables in python"
   ]
  },
  {
   "cell_type": "markdown",
   "metadata": {},
   "source": [
    "- Variables are reserved memory location which holds data\n"
   ]
  },
  {
   "cell_type": "code",
   "execution_count": 1,
   "metadata": {},
   "outputs": [],
   "source": [
    "# variables\n",
    "x=29\n",
    "# x is a variable hold value 29"
   ]
  },
  {
   "cell_type": "markdown",
   "metadata": {},
   "source": [
    "# I/O in python"
   ]
  },
  {
   "cell_type": "code",
   "execution_count": 2,
   "metadata": {},
   "outputs": [
    {
     "name": "stdout",
     "output_type": "stream",
     "text": [
      "hello 23\n"
     ]
    }
   ],
   "source": [
    "x=23\n",
    "print(\"hello\",x)\n",
    "# print is a function. It has a setting argument(,) called sep i.e seperator and its default value is \" \".hence even if we dont provide space. It will automatically add.\n"
   ]
  },
  {
   "cell_type": "code",
   "execution_count": 3,
   "metadata": {},
   "outputs": [
    {
     "name": "stdout",
     "output_type": "stream",
     "text": [
      "Helloworld\n",
      "hello world\n"
     ]
    }
   ],
   "source": [
    "print(\"Hello\"+\"world\")\n",
    "print(\"hello\",\"world\")"
   ]
  },
  {
   "cell_type": "code",
   "execution_count": 4,
   "metadata": {},
   "outputs": [
    {
     "name": "stdout",
     "output_type": "stream",
     "text": [
      "Hello:world:23\n"
     ]
    }
   ],
   "source": [
    "print(\"Hello\",\"world\",x,sep=\":\")\n",
    "# seperator is overrided by : by specifying sep argument inside print function"
   ]
  },
  {
   "cell_type": "code",
   "execution_count": 6,
   "metadata": {},
   "outputs": [
    {
     "name": "stdout",
     "output_type": "stream",
     "text": [
      "Hello\tworld\n",
      "again\n"
     ]
    }
   ],
   "source": [
    "# print has end argument which has by default value \\n. hence after executing one print statement next print statement starts from new line\n",
    "print(\"Hello\",end=\"\\t\") #end is \\t\n",
    "print(\"world\")  # end is \\n\n",
    "print(\"again\")  #end is \\n"
   ]
  },
  {
   "cell_type": "code",
   "execution_count": 7,
   "metadata": {},
   "outputs": [
    {
     "name": "stdout",
     "output_type": "stream",
     "text": [
      "sheetal\n",
      "sheetal\n"
     ]
    }
   ],
   "source": [
    "q=input()\n",
    "print(q)"
   ]
  },
  {
   "cell_type": "code",
   "execution_count": 8,
   "metadata": {},
   "outputs": [
    {
     "name": "stdout",
     "output_type": "stream",
     "text": [
      "Enter your namezsheetal\n"
     ]
    }
   ],
   "source": [
    "name=input(\"Enter your name\")\n"
   ]
  },
  {
   "cell_type": "code",
   "execution_count": 9,
   "metadata": {},
   "outputs": [
    {
     "name": "stdout",
     "output_type": "stream",
     "text": [
      "zsheetal\n"
     ]
    }
   ],
   "source": [
    "print(name)"
   ]
  },
  {
   "cell_type": "markdown",
   "metadata": {},
   "source": [
    "# Data types in python"
   ]
  },
  {
   "cell_type": "markdown",
   "metadata": {},
   "source": [
    "- Numeric\n",
    "    - Int\n",
    "    - float\n",
    "    - complex\n",
    "- Boolean\n",
    "- String\n",
    "- List\n",
    "- Dictionary\n",
    "- Set\n",
    "- Tupple\n"
   ]
  },
  {
   "cell_type": "code",
   "execution_count": 10,
   "metadata": {},
   "outputs": [
    {
     "name": "stdout",
     "output_type": "stream",
     "text": [
      "20 <class 'int'>\n",
      "-20 <class 'int'>\n",
      "24435434332224445556334533534332222113344555 <class 'int'>\n"
     ]
    }
   ],
   "source": [
    "# Integer\n",
    "a=20\n",
    "b=-20\n",
    "c=24435434332224445556334533534332222113344555\n",
    "print(a,type(a))\n",
    "print(b,type(b))\n",
    "print(c,type(c))"
   ]
  },
  {
   "cell_type": "code",
   "execution_count": 11,
   "metadata": {},
   "outputs": [
    {
     "name": "stdout",
     "output_type": "stream",
     "text": [
      "20.54 <class 'float'>\n",
      "-20.56 <class 'float'>\n"
     ]
    }
   ],
   "source": [
    "#Float\n",
    "a=20.54\n",
    "b=-20.56\n",
    "print(a,type(a))\n",
    "print(b,type(b))"
   ]
  },
  {
   "cell_type": "code",
   "execution_count": 12,
   "metadata": {},
   "outputs": [
    {
     "name": "stdout",
     "output_type": "stream",
     "text": [
      "(2+5j) <class 'complex'>\n"
     ]
    }
   ],
   "source": [
    "#complex\n",
    "c=2+5j\n",
    "print(c,type(c))"
   ]
  },
  {
   "cell_type": "code",
   "execution_count": 13,
   "metadata": {},
   "outputs": [
    {
     "name": "stdout",
     "output_type": "stream",
     "text": [
      "Sheetal Warbhuvan <class 'str'>\n"
     ]
    }
   ],
   "source": [
    "#Boolean\n",
    "#String\n",
    "a=\"Sheetal Warbhuvan\"\n",
    "print(a,type(a))\n"
   ]
  },
  {
   "cell_type": "code",
   "execution_count": 16,
   "metadata": {},
   "outputs": [
    {
     "name": "stdout",
     "output_type": "stream",
     "text": [
      "let's go'\n"
     ]
    }
   ],
   "source": [
    "print(\"let\\'s go'\")"
   ]
  },
  {
   "cell_type": "code",
   "execution_count": 17,
   "metadata": {},
   "outputs": [
    {
     "name": "stdout",
     "output_type": "stream",
     "text": [
      "H. no 94, \n",
      " Some apartment, \n",
      " some colony,some city,some state\n"
     ]
    }
   ],
   "source": [
    "#Multiline string\n",
    "address='H. no 94, \\n Some apartment, \\n some colony,some city,some state'\n",
    "print(address)"
   ]
  },
  {
   "cell_type": "code",
   "execution_count": 20,
   "metadata": {},
   "outputs": [
    {
     "name": "stdout",
     "output_type": "stream",
     "text": [
      "H. no 94, \n",
      "Some apartment, \n",
      "some colony,\n",
      "some city,\n",
      "some state\n"
     ]
    }
   ],
   "source": [
    "address= '''H. no 94, \n",
    "Some apartment, \n",
    "some colony,\n",
    "some city,\n",
    "some state'''\n",
    "print(address)"
   ]
  },
  {
   "cell_type": "markdown",
   "metadata": {},
   "source": [
    "# Collection\n",
    "# List- COllection of heterogeneous data type\n",
    "#List is stored  in []\n",
    "# Repetition is allowed\n",
    "# List is mutable -> it can be  modified\n",
    "l=[1,2,3,4]\n",
    "print(l,type(l))\n",
    "l=[\"Hi\",\"a\",2.34,True,3+2j,[1,2,3]]\n",
    "print(l,type(l))"
   ]
  },
  {
   "cell_type": "code",
   "execution_count": 24,
   "metadata": {},
   "outputs": [
    {
     "name": "stdout",
     "output_type": "stream",
     "text": [
      "(1, 2, 3, 4) <class 'tuple'>\n"
     ]
    }
   ],
   "source": [
    "# Tuple- Collection of heterogeneous data\n",
    "# stored inside ()\n",
    "#Repetion is allowed\n",
    "#immutable can not modified\n",
    "tuple=(1,2,3,4)\n",
    "print(tuple,type(tuple))"
   ]
  },
  {
   "cell_type": "code",
   "execution_count": 25,
   "metadata": {},
   "outputs": [
    {
     "name": "stdout",
     "output_type": "stream",
     "text": [
      "('Hi', 'a', 2.34, True, (3+2j), [1, 2, 3], (12, 23)) <class 'tuple'>\n"
     ]
    }
   ],
   "source": [
    "tuple=(\"Hi\",\"a\",2.34,True,3+2j,[1,2,3],(12,23))\n",
    "print(tuple,type(tuple))"
   ]
  },
  {
   "cell_type": "code",
   "execution_count": 26,
   "metadata": {},
   "outputs": [
    {
     "name": "stdout",
     "output_type": "stream",
     "text": [
      "{'Name': 'Sheetal', 'City': 'Pune', 'a': 12} <class 'dict'> 3\n"
     ]
    }
   ],
   "source": [
    "# Dictionary \n",
    "#Dictionary item is in the form of key:value pair\n",
    "#It is mutable\n",
    "#unordered \n",
    "d={'Name':'Sheetal','City':'Pune','a':12}\n",
    "print(d,type(d),len(d))\n"
   ]
  },
  {
   "cell_type": "code",
   "execution_count": 27,
   "metadata": {},
   "outputs": [],
   "source": [
    "#len is a function used for collection data types to get count of elements/items"
   ]
  },
  {
   "cell_type": "code",
   "execution_count": 28,
   "metadata": {},
   "outputs": [
    {
     "name": "stdout",
     "output_type": "stream",
     "text": [
      "{'Name': 'Sheetal', 'City': 'Pune', 'a': 12, 'd1': {1: 1.0, 2: 2.0, 3: 3.0}} <class 'dict'> 4\n"
     ]
    }
   ],
   "source": [
    "d={'Name':'Sheetal','City':'Pune','a':12,'d1':{1:1.0,2:2.0,3:3.0}}\n",
    "print(d,type(d),len(d))"
   ]
  },
  {
   "cell_type": "code",
   "execution_count": 30,
   "metadata": {},
   "outputs": [
    {
     "data": {
      "text/plain": [
       "{1: 1.0, 2: 2.0, 3: 3.0}"
      ]
     },
     "execution_count": 30,
     "metadata": {},
     "output_type": "execute_result"
    }
   ],
   "source": [
    "d['d1']"
   ]
  },
  {
   "cell_type": "markdown",
   "metadata": {},
   "source": [
    "String and tuple are immutable"
   ]
  },
  {
   "cell_type": "code",
   "execution_count": 31,
   "metadata": {},
   "outputs": [
    {
     "name": "stdout",
     "output_type": "stream",
     "text": [
      "{1, 2, 3, 4, 5, 4.5, 'str'} <class 'set'>\n"
     ]
    }
   ],
   "source": [
    "#Set\n",
    "#No repetion\n",
    "#Mutable\n",
    "set={1,2,3,4,5,4.5,\"str\"}\n",
    "print(set,type(set))"
   ]
  },
  {
   "cell_type": "markdown",
   "metadata": {},
   "source": [
    "# Imutable Data types\n",
    "-  String\n",
    "-  Numbers\n",
    "-  Tuples\n"
   ]
  },
  {
   "cell_type": "markdown",
   "metadata": {},
   "source": [
    "# Mutable Data Types\n",
    "- Dictionary\n",
    "- List\n",
    "- Set"
   ]
  },
  {
   "cell_type": "code",
   "execution_count": null,
   "metadata": {},
   "outputs": [],
   "source": []
  },
  {
   "attachments": {
    "image.png": {
     "image/png": "[encoded data removed]"
    }
   },
   "cell_type": "markdown",
   "metadata": {},
   "source": [
    "# List is iterable,mutable,ordered,Repetative\n",
    "# Tuples are iterable ordered Repetative but Immutable\n",
    "# Sets are iterable unordered not repetative and mutable\n",
    "![image.png](attachment:image.png)"
   ]
  },
  {
   "cell_type": "code",
   "execution_count": null,
   "metadata": {},
   "outputs": [],
   "source": []
  }
 ],
 "metadata": {
  "kernelspec": {
   "display_name": "Python 3",
   "language": "python",
   "name": "python3"
  },
  "language_info": {
   "codemirror_mode": {
    "name": "ipython",
    "version": 3
   },
   "file_extension": ".py",
   "mimetype": "text/x-python",
   "name": "python",
   "nbconvert_exporter": "python",
   "pygments_lexer": "ipython3",
   "version": "3.8.5"
  }
 },
 "nbformat": 4,
 "nbformat_minor": 4
}
